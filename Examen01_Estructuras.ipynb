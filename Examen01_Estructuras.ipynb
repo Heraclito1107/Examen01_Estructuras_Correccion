{
 "cells": [
  {
   "cell_type": "markdown",
   "metadata": {},
   "source": [
    "# Examen 01\n",
    "\n",
    "## Mariana Guadalupe Ramírez Cervantes\n",
    "## Ander Urtuzuástegui Paredes\n",
    "## Daniel Heráclito Pérez Díaz"
   ]
  },
  {
   "cell_type": "markdown",
   "metadata": {},
   "source": [
    "## 1. Arreglo dinamico"
   ]
  },
  {
   "cell_type": "code",
   "execution_count": 1,
   "metadata": {
    "collapsed": true
   },
   "outputs": [],
   "source": [
    "from Estructuras1 import dinamico\n",
    "from sys import getsizeof as size"
   ]
  },
  {
   "cell_type": "markdown",
   "metadata": {},
   "source": [
    "### a) Crea un arreglo dinámico de enteros."
   ]
  },
  {
   "cell_type": "code",
   "execution_count": 2,
   "metadata": {
    "collapsed": true
   },
   "outputs": [],
   "source": [
    "arreglo1 = dinamico()"
   ]
  },
  {
   "cell_type": "markdown",
   "metadata": {},
   "source": [
    "### b) Agrega elementos como elementos los números del 1 al 100."
   ]
  },
  {
   "cell_type": "code",
   "execution_count": 3,
   "metadata": {
    "collapsed": true
   },
   "outputs": [],
   "source": [
    "for i in range(100):\n",
    "    arreglo1.add(i+1)"
   ]
  },
  {
   "cell_type": "markdown",
   "metadata": {},
   "source": [
    "### c) Calcula e imprime la cantidad de elementos que tiene el arreglo"
   ]
  },
  {
   "cell_type": "code",
   "execution_count": 4,
   "metadata": {},
   "outputs": [
    {
     "name": "stdout",
     "output_type": "stream",
     "text": [
      "100\n"
     ]
    }
   ],
   "source": [
    "print (arreglo1.__len__())"
   ]
  },
  {
   "cell_type": "markdown",
   "metadata": {},
   "source": [
    "### d) Calcula e imprime la capacidad de elementos que tiene el arreglo."
   ]
  },
  {
   "cell_type": "code",
   "execution_count": 5,
   "metadata": {},
   "outputs": [
    {
     "name": "stdout",
     "output_type": "stream",
     "text": [
      "128\n"
     ]
    }
   ],
   "source": [
    "print (arreglo1.espacio)"
   ]
  },
  {
   "cell_type": "markdown",
   "metadata": {},
   "source": [
    "### e) Elimina 50 elementos."
   ]
  },
  {
   "cell_type": "code",
   "execution_count": 6,
   "metadata": {
    "collapsed": true
   },
   "outputs": [],
   "source": [
    "for i in range(50):\n",
    "    arreglo1.lastDie()"
   ]
  },
  {
   "cell_type": "markdown",
   "metadata": {},
   "source": [
    "### f ) Calcula e imprime la capacidad de elementos que tiene el arreglo."
   ]
  },
  {
   "cell_type": "code",
   "execution_count": 7,
   "metadata": {},
   "outputs": [
    {
     "name": "stdout",
     "output_type": "stream",
     "text": [
      "96\n"
     ]
    }
   ],
   "source": [
    "print (arreglo1.espacio)"
   ]
  },
  {
   "cell_type": "markdown",
   "metadata": {},
   "source": [
    "### g) Busca si existe el número 45 en la lista. Si existe, imprime: ’Sí existe el 45’ Si no existe, imprime: ’No existe el 45’"
   ]
  },
  {
   "cell_type": "code",
   "execution_count": 8,
   "metadata": {},
   "outputs": [
    {
     "name": "stdout",
     "output_type": "stream",
     "text": [
      "Sí existe el 45\n"
     ]
    }
   ],
   "source": [
    "cuarentaycinco = False\n",
    "\n",
    "for i in range(arreglo1.__len__()):\n",
    "    if arreglo1.__getitem__(i) == 45:\n",
    "        print (\"Sí existe el 45\")\n",
    "        cuarentaycinco = True\n",
    "if cuarentaycinco == False:\n",
    "    print (\"No existe el 45\")\n",
    "    "
   ]
  },
  {
   "cell_type": "markdown",
   "metadata": {},
   "source": [
    "### h) Elimina 40 elementos más."
   ]
  },
  {
   "cell_type": "code",
   "execution_count": 9,
   "metadata": {
    "collapsed": true
   },
   "outputs": [],
   "source": [
    "for i in range(40):\n",
    "    arreglo1.lastDie()"
   ]
  },
  {
   "cell_type": "markdown",
   "metadata": {},
   "source": [
    "### i) Calcula e imprime la capacidad de elementos que tiene el arreglo."
   ]
  },
  {
   "cell_type": "code",
   "execution_count": 10,
   "metadata": {},
   "outputs": [
    {
     "name": "stdout",
     "output_type": "stream",
     "text": [
      "16\n"
     ]
    }
   ],
   "source": [
    "print (arreglo1.espacio)"
   ]
  },
  {
   "cell_type": "code",
   "execution_count": 11,
   "metadata": {},
   "outputs": [
    {
     "name": "stdout",
     "output_type": "stream",
     "text": [
      "Espacio: 16\tElementos:10\n"
     ]
    },
    {
     "data": {
      "text/plain": [
       "'1--2--3--4--5--6--7--8--9--10'"
      ]
     },
     "execution_count": 11,
     "metadata": {},
     "output_type": "execute_result"
    }
   ],
   "source": [
    "arreglo1.__str__()"
   ]
  },
  {
   "cell_type": "markdown",
   "metadata": {},
   "source": [
    "## 2. Lista ligada"
   ]
  },
  {
   "cell_type": "code",
   "execution_count": 12,
   "metadata": {
    "collapsed": true
   },
   "outputs": [],
   "source": [
    "from ligados import lista"
   ]
  },
  {
   "cell_type": "markdown",
   "metadata": {},
   "source": [
    "### a) Crea una lista ligada."
   ]
  },
  {
   "cell_type": "code",
   "execution_count": 13,
   "metadata": {
    "collapsed": true
   },
   "outputs": [],
   "source": [
    "lista1 = lista()"
   ]
  },
  {
   "cell_type": "markdown",
   "metadata": {},
   "source": [
    "### b) Agrega como elementos las letras de la .a”hasta la ”z”"
   ]
  },
  {
   "cell_type": "code",
   "execution_count": 14,
   "metadata": {
    "collapsed": true
   },
   "outputs": [],
   "source": [
    "for i in range(26):\n",
    "    lista1.add(chr(122-i))"
   ]
  },
  {
   "cell_type": "markdown",
   "metadata": {},
   "source": [
    "### c) Calcula e imprime la cantidad de elementos que tiene la lista ligada."
   ]
  },
  {
   "cell_type": "code",
   "execution_count": 15,
   "metadata": {},
   "outputs": [
    {
     "data": {
      "text/plain": [
       "26"
      ]
     },
     "execution_count": 15,
     "metadata": {},
     "output_type": "execute_result"
    }
   ],
   "source": [
    "lista1.__len__()"
   ]
  },
  {
   "cell_type": "markdown",
   "metadata": {},
   "source": [
    "### d) Muestra cuál es el 5° miembro de la lista."
   ]
  },
  {
   "cell_type": "code",
   "execution_count": 16,
   "metadata": {},
   "outputs": [
    {
     "name": "stdout",
     "output_type": "stream",
     "text": [
      "e\n"
     ]
    }
   ],
   "source": [
    "print(lista1.__getitem__(5))"
   ]
  },
  {
   "cell_type": "markdown",
   "metadata": {},
   "source": [
    "### e) Muestra cuál es el 10° miembro de la lista."
   ]
  },
  {
   "cell_type": "code",
   "execution_count": 17,
   "metadata": {},
   "outputs": [
    {
     "name": "stdout",
     "output_type": "stream",
     "text": [
      "j\n"
     ]
    }
   ],
   "source": [
    "print(lista1.__getitem__(10))"
   ]
  },
  {
   "cell_type": "markdown",
   "metadata": {},
   "source": [
    "### f ) Elimina el último miembro de la lista."
   ]
  },
  {
   "cell_type": "code",
   "execution_count": 18,
   "metadata": {},
   "outputs": [
    {
     "data": {
      "text/plain": [
       "25"
      ]
     },
     "execution_count": 18,
     "metadata": {},
     "output_type": "execute_result"
    }
   ],
   "source": [
    "lista1.del_last()\n",
    "lista1.__len__()"
   ]
  },
  {
   "cell_type": "markdown",
   "metadata": {},
   "source": [
    "### g) Busca dentro de la lista si existe el elemento con valor ’j’ y calcula su posición. Si no existe imprime, no existe ’j’"
   ]
  },
  {
   "cell_type": "code",
   "execution_count": 19,
   "metadata": {},
   "outputs": [
    {
     "name": "stdout",
     "output_type": "stream",
     "text": [
      "Si existe 'j' en la posicion: 10\n"
     ]
    }
   ],
   "source": [
    "j = False\n",
    "for i in range(lista1.__len__()):\n",
    "    if lista1.__getitem__(i) == 'j':\n",
    "        print (\"Si existe 'j' en la posicion:\", i)\n",
    "        j = True\n",
    "if j == False:\n",
    "    print (\"No existe 'j'\")"
   ]
  },
  {
   "cell_type": "markdown",
   "metadata": {},
   "source": [
    "### h) Imprime todos los elementos de la lista en formato: elemento+++elemento+++elemento\n"
   ]
  },
  {
   "cell_type": "code",
   "execution_count": 20,
   "metadata": {},
   "outputs": [
    {
     "data": {
      "text/plain": [
       "'a+++b+++c+++d+++e+++f+++g+++h+++i+++j+++k+++l+++m+++n+++o+++p+++q+++r+++s+++t+++u+++v+++w+++x+++y'"
      ]
     },
     "execution_count": 20,
     "metadata": {},
     "output_type": "execute_result"
    }
   ],
   "source": [
    "lista1.__str__()"
   ]
  },
  {
   "cell_type": "markdown",
   "metadata": {},
   "source": [
    "## 3. Lista doblemente ligada."
   ]
  },
  {
   "cell_type": "code",
   "execution_count": 21,
   "metadata": {
    "collapsed": true
   },
   "outputs": [],
   "source": [
    "from listasdl1 import lista"
   ]
  },
  {
   "cell_type": "markdown",
   "metadata": {},
   "source": [
    "### a) Crea una lista doblemente ligada."
   ]
  },
  {
   "cell_type": "code",
   "execution_count": 22,
   "metadata": {
    "collapsed": true
   },
   "outputs": [],
   "source": [
    "listadoble1 = lista()"
   ]
  },
  {
   "cell_type": "markdown",
   "metadata": {},
   "source": [
    "### b) Agrega como elementos cada una de las palabras de la frase:\n",
    "### ”Mr and Mrs Dursley of number four Privet Drive were proud to say that they were perfectly normal thank you very much they were the last people youd expect to be involved in anything strange or mysterious because they just didnt hold with such nonsense Mr Dursley was the director of a firm called Grunnings which made drills He was a big beefy man with hardly any neck although he did have a very large mustache Mrs Dursley was thin and blonde and had nearly twice the usual amount of neck which came in very useful as she spent so much of her time craning over garden fences spying on the neighbors The Dursleys had a small son called Dudley and in their opinion there was no finer boy anywhere”"
   ]
  },
  {
   "cell_type": "code",
   "execution_count": 23,
   "metadata": {
    "collapsed": true
   },
   "outputs": [],
   "source": [
    "frase = \"Mr and Mrs Dursley of number four Privet Drive were proud to say that they were perfectly normal thank you very much they were the last people youd expect to be involved in anything strange or mysterious because they just didnt hold with such nonsense Mr Dursley was the director of a firm called Grunnings which made drills He was a big beefy man with hardly any neck although he did have a very large mustache Mrs Dursley was thin and blonde and had nearly twice the usual amount of neck which came in very useful as she spent so much of her time craning over garden fences spying on the neighbors The Dursleys had a small son called Dudley and in their opinion there was no finer boy anywhere\"\n",
    "texto = frase.split()\n",
    "for i in range(len(texto)):\n",
    "    listadoble1.add(texto[i])"
   ]
  },
  {
   "cell_type": "markdown",
   "metadata": {},
   "source": [
    "### c) Calcula e imprime la cantidad de elementos que tiene la lista doblemente ligada."
   ]
  },
  {
   "cell_type": "code",
   "execution_count": 24,
   "metadata": {},
   "outputs": [
    {
     "data": {
      "text/plain": [
       "130"
      ]
     },
     "execution_count": 24,
     "metadata": {},
     "output_type": "execute_result"
    }
   ],
   "source": [
    "listadoble1.__len__()"
   ]
  },
  {
   "cell_type": "markdown",
   "metadata": {
    "collapsed": true
   },
   "source": [
    "### d) Muestra cuál es el penúltimo elemento de la lista."
   ]
  },
  {
   "cell_type": "code",
   "execution_count": 25,
   "metadata": {},
   "outputs": [
    {
     "name": "stdout",
     "output_type": "stream",
     "text": [
      "and\n"
     ]
    }
   ],
   "source": [
    "penultimo = listadoble1.cabus.last.last.value\n",
    "print(str(penultimo))"
   ]
  },
  {
   "cell_type": "markdown",
   "metadata": {
    "collapsed": true
   },
   "source": [
    "### e) Busca dentro de la lista si existe el elemento con valor ’neck’ y calcula su posición. Si no existe, imprime, ’No existe neck’"
   ]
  },
  {
   "cell_type": "code",
   "execution_count": 26,
   "metadata": {},
   "outputs": [
    {
     "name": "stdout",
     "output_type": "stream",
     "text": [
      "Si existe 'neck' en la posicion: 39\n",
      "Si existe 'neck' en la posicion: 62\n"
     ]
    }
   ],
   "source": [
    "neck = False\n",
    "for i in range(listadoble1.__len__()):\n",
    "    if listadoble1.__getitem__(i) == \"neck\":\n",
    "        print (\"Si existe 'neck' en la posicion:\", i)\n",
    "        neck = True\n",
    "if neck == False:\n",
    "    print (\"No existe 'neck'\")"
   ]
  },
  {
   "cell_type": "markdown",
   "metadata": {
    "collapsed": true
   },
   "source": [
    "### f ) Imprime todos los elementos de la lista doblemente ligada que empiecen con ’h’"
   ]
  },
  {
   "cell_type": "code",
   "execution_count": 27,
   "metadata": {},
   "outputs": [
    {
     "name": "stdout",
     "output_type": "stream",
     "text": [
      "had\n",
      "her\n",
      "had\n",
      "have\n",
      "he\n",
      "hardly\n",
      "He\n",
      "hold\n"
     ]
    }
   ],
   "source": [
    "for i in range(listadoble1.__len__()):\n",
    "    word = listadoble1.__getitem__(i)\n",
    "    if (word[0] == 'h') or (word[0] == 'H'):\n",
    "        print (word)"
   ]
  },
  {
   "cell_type": "markdown",
   "metadata": {},
   "source": [
    "## 4. Listas de Python"
   ]
  },
  {
   "cell_type": "code",
   "execution_count": 28,
   "metadata": {
    "collapsed": true
   },
   "outputs": [],
   "source": [
    "from listasdl1 import lista"
   ]
  },
  {
   "cell_type": "markdown",
   "metadata": {},
   "source": [
    "### a) Crea una lista de Python."
   ]
  },
  {
   "cell_type": "code",
   "execution_count": 29,
   "metadata": {
    "collapsed": true
   },
   "outputs": [],
   "source": [
    "listaP = []"
   ]
  },
  {
   "cell_type": "markdown",
   "metadata": {},
   "source": [
    "### b) Agrega como elementos cada una de las palabras de la frase del item 3b en listas doblemente ligadas."
   ]
  },
  {
   "cell_type": "code",
   "execution_count": 30,
   "metadata": {
    "collapsed": true
   },
   "outputs": [],
   "source": [
    "frase = \"Mr and Mrs Dursley of number four Privet Drive were proud to say that they were perfectly normal thank you very much they were the last people youd expect to be involved in anything strange or mysterious because they just didnt hold with such nonsense Mr Dursley was the director of a firm called Grunnings which made drills He was a big beefy man with hardly any neck although he did have a very large mustache Mrs Dursley was thin and blonde and had nearly twice the usual amount of neck which came in very useful as she spent so much of her time craning over garden fences spying on the neighbors The Dursleys had a small son called Dudley and in their opinion there was no finer boy anywhere\"\n",
    "texto = frase.split()\n",
    "for i in range(len(texto)):\n",
    "    word = texto[i]\n",
    "    palabra = lista()\n",
    "    for j in range(len(word)):\n",
    "        palabra.add(word[j])\n",
    "    listaP.append(palabra)"
   ]
  },
  {
   "cell_type": "markdown",
   "metadata": {},
   "source": [
    "### c) Imprime la misma frase, pero cada palabra con sus letras en orden inverso."
   ]
  },
  {
   "cell_type": "code",
   "execution_count": 31,
   "metadata": {
    "scrolled": true
   },
   "outputs": [
    {
     "name": "stdout",
     "output_type": "stream",
     "text": [
      "rM dna srM yelsruD fo rebmun ruof tevirP evirD erew duorp ot yas taht yeht erew yltcefrep lamron knaht uoy yrev hcum yeht erew eht tsal elpoep duoy tcepxe ot eb devlovni ni gnihtyna egnarts ro suoiretsym esuaceb yeht tsuj tndid dloh htiw hcus esnesnon rM yelsruD saw eht rotcerid fo a mrif dellac sgninnurG hcihw edam sllird eH saw a gib yfeeb nam htiw yldrah yna kcen hguohtla eh did evah a yrev egral ehcatsum srM yelsruD saw niht dna ednolb dna dah ylraen eciwt eht lausu tnuoma fo kcen hcihw emac ni yrev lufesu sa ehs tneps os hcum fo reh emit gninarc revo nedrag secnef gniyps no eht srobhgien ehT syelsruD dah a llams nos dellac yelduD dna ni rieht noinipo ereht saw on renif yob erehwyna \n"
     ]
    }
   ],
   "source": [
    "frase = \"\"\n",
    "for i in range(len(listaP)):\n",
    "    frase += \"\".join([listaP[i].__getitem__(j) for j in range(len(listaP[i]))])\n",
    "    frase += \" \"\n",
    "print(frase)"
   ]
  },
  {
   "cell_type": "markdown",
   "metadata": {},
   "source": [
    "### d) Crea una nueva lista en que los elementos sean los tamaños de cada una de las palabras de la lista anterior."
   ]
  },
  {
   "cell_type": "code",
   "execution_count": 32,
   "metadata": {
    "collapsed": true
   },
   "outputs": [],
   "source": [
    "listaTam = []\n",
    "for i in range (len(listaP)):\n",
    "    listaTam.append(len(listaP[i]))    "
   ]
  },
  {
   "cell_type": "markdown",
   "metadata": {},
   "source": [
    "### e) Encuentra el elemento mayor de la lista nueva."
   ]
  },
  {
   "cell_type": "code",
   "execution_count": 33,
   "metadata": {},
   "outputs": [
    {
     "name": "stdout",
     "output_type": "stream",
     "text": [
      "El mayor elemento es: 10\n"
     ]
    }
   ],
   "source": [
    "x = listaTam[0]\n",
    "for i in range(len(listaTam)):\n",
    "    if x < listaTam[i]:\n",
    "        x = listaTam[i]\n",
    "print(\"El mayor elemento es:\", x)"
   ]
  },
  {
   "cell_type": "markdown",
   "metadata": {},
   "source": [
    "### f ) Encuentra la suma de todos los elementos de la lista."
   ]
  },
  {
   "cell_type": "code",
   "execution_count": 34,
   "metadata": {},
   "outputs": [
    {
     "name": "stdout",
     "output_type": "stream",
     "text": [
      "La suma de los elementos es: 566\n"
     ]
    }
   ],
   "source": [
    "suma = 0\n",
    "for i in range(len(listaTam)):\n",
    "    suma += listaTam[i]\n",
    "    \n",
    "print(\"La suma de los elementos es:\", suma)"
   ]
  },
  {
   "cell_type": "markdown",
   "metadata": {},
   "source": [
    "### g) Encuentra el promedio de todos los elementos de la lista."
   ]
  },
  {
   "cell_type": "code",
   "execution_count": 35,
   "metadata": {},
   "outputs": [
    {
     "name": "stdout",
     "output_type": "stream",
     "text": [
      "El promedio de los elementos es: 4.3538461538461535\n"
     ]
    }
   ],
   "source": [
    "suma = 0\n",
    "for i in range(len(listaTam)):\n",
    "    suma += listaTam[i]\n",
    "promedio = suma/(len(listaTam))\n",
    "print(\"El promedio de los elementos es:\", promedio)"
   ]
  },
  {
   "cell_type": "markdown",
   "metadata": {},
   "source": [
    "### h) Encuentra cuál es la palabra más larga de la lista de palabras."
   ]
  },
  {
   "cell_type": "code",
   "execution_count": 36,
   "metadata": {},
   "outputs": [
    {
     "name": "stdout",
     "output_type": "stream",
     "text": [
      "mysterious\n"
     ]
    }
   ],
   "source": [
    "x = listaTam[0]\n",
    "index = 0\n",
    "for i in range(len(listaTam)):\n",
    "    if x < listaTam[i]:\n",
    "        x = listaTam[i]\n",
    "        index = i\n",
    "\n",
    "print(\"\".join([listaP[index].__getitem__(len(listaP[index])-(j+1)) for j in range(len(listaP[index]))]))"
   ]
  },
  {
   "cell_type": "code",
   "execution_count": null,
   "metadata": {
    "collapsed": true
   },
   "outputs": [],
   "source": []
  }
 ],
 "metadata": {
  "kernelspec": {
   "display_name": "Python 3",
   "language": "python",
   "name": "python3"
  },
  "language_info": {
   "codemirror_mode": {
    "name": "ipython",
    "version": 3
   },
   "file_extension": ".py",
   "mimetype": "text/x-python",
   "name": "python",
   "nbconvert_exporter": "python",
   "pygments_lexer": "ipython3",
   "version": "3.6.1"
  }
 },
 "nbformat": 4,
 "nbformat_minor": 2
}
